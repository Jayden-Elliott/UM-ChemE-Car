{
 "cells": [
  {
   "cell_type": "code",
   "execution_count": 1,
   "metadata": {},
   "outputs": [],
   "source": [
    "import pandas as pd\n",
    "import numpy as np\n",
    "import matplotlib.pyplot as plt"
   ]
  },
  {
   "cell_type": "code",
   "execution_count": 3,
   "metadata": {},
   "outputs": [
    {
     "name": "stdout",
     "output_type": "stream",
     "text": [
      "       time  value  slope\n",
      "0      7.11  142.0  -0.06\n",
      "1      7.11  139.0  -0.04\n",
      "2      7.11  142.0  -0.16\n",
      "3      7.12  141.0   0.01\n",
      "4      7.14  141.0  -0.11\n",
      "...     ...    ...    ...\n",
      "1717  45.35  352.0   2.42\n",
      "1718  45.38  353.0   2.67\n",
      "1719  45.40  351.0   2.88\n",
      "1720  45.42  352.0   3.09\n",
      "1721  45.44  352.0   3.25\n",
      "\n",
      "[1722 rows x 3 columns]\n",
      "20.72\n"
     ]
    },
    {
     "data": {
      "image/png": "[encoded data removed]",
      "text/plain": [
       "<Figure size 432x288 with 1 Axes>"
      ]
     },
     "metadata": {
      "needs_background": "light"
     },
     "output_type": "display_data"
    }
   ],
   "source": [
    "df = pd.read_csv(\"../data/nationals/1_0.75.csv\")\n",
    "print(df)\n",
    "# make time a float\n",
    "df[\"time\"] = df[\"time\"].astype(float)\n",
    "df[\"value\"] = df[\"value\"].astype(float)\n",
    "df[\"slope\"] = df[\"slope\"].astype(float)\n",
    "plt.plot(df[\"time\"], df[\"value\"])\n",
    "plt.plot(df[\"time\"], df[\"slope\"])\n",
    "\n",
    "# get time from start to peak of slope\n",
    "max_time = df[df[\"slope\"] == df[\"slope\"].max()][\"time\"].values[0]\n",
    "print(max_time - df[\"time\"].min())"
   ]
  },
  {
   "cell_type": "code",
   "execution_count": 7,
   "metadata": {},
   "outputs": [
    {
     "name": "stdout",
     "output_type": "stream",
     "text": [
      "2.195113951484878\n"
     ]
    }
   ],
   "source": [
    "a = -0.727757690014426\n",
    "b = 2.825826574353365\n",
    "lntmin = 3.035189414859436\n",
    "lntmax = 2.0263030329308\n",
    "\n",
    "d = 26.62\n",
    "print(np.exp((1/a) * (lntmin + (d-15)/15*(lntmax-lntmin) - b)))\n"
   ]
  }
 ],
 "metadata": {
  "kernelspec": {
   "display_name": "Python 3",
   "language": "python",
   "name": "python3"
  },
  "language_info": {
   "codemirror_mode": {
    "name": "ipython",
    "version": 3
   },
   "file_extension": ".py",
   "mimetype": "text/x-python",
   "name": "python",
   "nbconvert_exporter": "python",
   "pygments_lexer": "ipython3",
   "version": "3.10.0"
  }
 },
 "nbformat": 4,
 "nbformat_minor": 2
}
